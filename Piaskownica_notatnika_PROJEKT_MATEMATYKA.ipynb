{
  "nbformat": 4,
  "nbformat_minor": 0,
  "metadata": {
    "colab": {
      "provenance": [],
      "include_colab_link": true
    },
    "kernelspec": {
      "name": "python3",
      "display_name": "Python 3"
    },
    "language_info": {
      "name": "python"
    }
  },
  "cells": [
    {
      "cell_type": "markdown",
      "metadata": {
        "id": "view-in-github",
        "colab_type": "text"
      },
      "source": [
        "<a href=\"https://colab.research.google.com/github/TheDukato/Matematyka_w_projektowaniu_sieci/blob/main/Piaskownica_notatnika_PROJEKT_MATEMATYKA.ipynb\" target=\"_parent\"><img src=\"https://colab.research.google.com/assets/colab-badge.svg\" alt=\"Open In Colab\"/></a>"
      ]
    },
    {
      "cell_type": "markdown",
      "source": [
        "\n",
        "Podział prac:\n",
        "*   Jakub Sośniak: implementacja modelu\n",
        "*   Kamil Pokusa: lider, pomoc w implementacji\n",
        "*   Norbert Barczyk: rozpisanie ograniczeń w LateX, pomoc w impementacji\n",
        "*   Filip Pieniążek: implementacja modelu,\n",
        "\n",
        "\n",
        "\n"
      ],
      "metadata": {
        "id": "ogVjQZUzjMjd"
      }
    },
    {
      "cell_type": "code",
      "source": [
        "try:\n",
        "  import gdown\n",
        "except ModuleNotFoundError:\n",
        "  !pip install gdown\n",
        "\n",
        "FILE_ID = '1F25HJNcYXxbLjlbdMhKUnq_T0p5BA5A9'\n",
        "gdown.download(id=FILE_ID)\n",
        "from mpsis_setup import mpsis\n",
        "mpsis.set_software()\n",
        "import pulp"
      ],
      "metadata": {
        "id": "xnSBoqEijPQg"
      },
      "execution_count": null,
      "outputs": []
    },
    {
      "cell_type": "code",
      "source": [
        "#@title Biblioteki\n",
        "\n",
        "import gdown\n",
        "import matplotlib.pyplot as plt\n",
        "import networkx as nx\n",
        "import numpy as np\n",
        "import pprint\n",
        "import random\n",
        "url = \"https://drive.google.com/file/d/1SDAB8yrrvI3JatLSQizzT_3oHlQVEExk/view?usp=sharing\"\n",
        "gdown.download(url=url, quiet=False, fuzzy=True)\n",
        "\n",
        "# plik https://drive.google.com/file/d/1zq17RENYLU1qrE2gNPsxRAPoysWMZAqf/view?usp=sharing\n",
        "#FILE_ID = '1zq17RENYLU1qrE2gNPsxRAPoysWMZAqf'\n",
        "#gdown.download(id=FILE_ID)\n",
        "\n",
        "from mpsis_setup import mpsis\n",
        "mpsis.set_software()\n",
        "\n",
        "import pulp as plp"
      ],
      "metadata": {
        "id": "6Y_ygTRsjoNy",
        "colab": {
          "base_uri": "https://localhost:8080/"
        },
        "outputId": "0e3ca649-3996-49e4-e7aa-000b1f9bf992"
      },
      "execution_count": 2,
      "outputs": [
        {
          "output_type": "stream",
          "name": "stdout",
          "text": [
            "Access denied with the following error:\n"
          ]
        },
        {
          "output_type": "stream",
          "name": "stderr",
          "text": [
            "\n",
            " \tCannot retrieve the public link of the file. You may need to change\n",
            "\tthe permission to 'Anyone with the link', or have had many accesses. \n",
            "\n",
            "You may still be able to access the file from the browser:\n",
            "\n",
            "\t https://drive.google.com/uc?id=1SDAB8yrrvI3JatLSQizzT_3oHlQVEExk \n",
            "\n"
          ]
        },
        {
          "output_type": "stream",
          "name": "stdout",
          "text": [
            "Mounted at /content/drive\n"
          ]
        }
      ]
    },
    {
      "cell_type": "markdown",
      "source": [
        "Temat:LP-WSC: a linear programming approach for web service\n",
        "composition in geographically distributed cloud\n",
        "environments\n",
        "\n",
        "*   **Funkcja celu:**\n",
        "\n",
        "$$ \\max \\, Z = ( \\frac{1}{\\sum_{v \\in V} I_v \\times WScost(v)} + \\frac{1}{\\sum_{v \\in V} I_v \\times WS\\_Resp(v)} + \\sum_{v \\in V} I_v \\times WS\\_Avail(v)+\\sum_{v \\in V} I_v \\times WS\\_Reli(v)) $$\n",
        "\n",
        "\n",
        "* **Ograniczenia:**\n",
        "\n",
        "\\begin{align*}\n",
        "I_v \\times WS_{\\text{Cost}}(v) &\\leq SLA_v \\cdot SL01 \\\\\n",
        "I_v \\times WS_{\\text{Resp}}(v) &\\leq SLA_v \\cdot SL02 \\\\\n",
        "I_v \\times WS_{\\text{Avail}}(v) &\\leq SLA_v \\cdot SL03 \\\\\n",
        "I_v \\times WS_{\\text{Reli}}(v) &\\leq SLA_v \\cdot SL04 \\\\\n",
        "I_v &= 0 \\text{ or } 1, \\forall v \\in [0, 1] \\\\\n",
        "\\text{Count}(I) &\\leq \\text{Req_Service_Count}\n",
        "\\end{align*}\n",
        "\n",
        "Z faktu że w wybranym artykule występują nieliniowości musimy przeprowadzić linearyzację dwóch składników sumy, wynikją z tego dodatkowe ograniczenia i funkcja celu przyjmuje inną postać:\n",
        "*   **Indeksy**\n",
        "$$\n",
        "v - \\text{wezel  sieci}\n",
        "$$\n",
        "*   **Stale**\n",
        "$$\n",
        "SLA,SLO - \\text{paramtery związane z QoS dla danego uzytkownika}\n",
        "$$\n",
        "*   **Funkcja celu:**\n",
        "\n",
        "$$\n",
        "  \\max \\, Z = (\n",
        "  \\sum_{v \\in V} z_v \\times WS_{\\text{cost}}(v) +\n",
        "  \\sum_{v \\in V} y_v \\times WS_{\\text{_Resp}}(v) +\n",
        "  \\sum_{v \\in V} I_v \\times WS\\_Avail(v) +\n",
        "  \\sum_{v \\in V} I_v \\times WS\\_Reli(v))\n",
        "$$\n",
        "\n",
        "\n",
        "* **Ograniczenia:**\n",
        "\n",
        "\\begin{align*}\n",
        "I_v \\times WS_{\\text{Cost}}(v) &\\leq SLA_v \\cdot SL01 \\\\\n",
        "I_v \\times WS_{\\text{Resp}}(v) &\\leq SLA_v \\cdot SL02 \\\\\n",
        "I_v \\times WS_{\\text{Avail}}(v) &\\leq SLA_v \\cdot SL03 \\\\\n",
        "I_v \\times WS_{\\text{Reli}}(v) &\\leq SLA_v \\cdot SL04 \\\\\n",
        "z_v \\geq l_1 + I_v -1 \\\\\n",
        "y_v \\geq l_2 + I_v -1 \\\\\n",
        "\\sum_{v} z_v = 1\\\\\n",
        "\\sum_{v} y_v = 1\\\\\n",
        "I_v &= 0 \\text{ or } 1, \\forall v \\in [0, 1] \\\\\n",
        "\\text{Count}(I) &\\leq \\text{Req_Service_Count}\n",
        "\\end{align*}\n"
      ],
      "metadata": {
        "id": "BGRGH--fjid6"
      }
    },
    {
      "cell_type": "code",
      "source": [
        "#@title Dane do modelu\n",
        "\n",
        "serwer_list= [\n",
        "    {\"cost\": 3, \"Reliability\": 99.95, \"Availability\": 98, \"Response_Time\": 9},\n",
        "    {\"cost\": 2.5, \"Reliability\": 90, \"Availability\": 90, \"Response_Time\": 12},\n",
        "    {\"cost\": 1, \"Reliability\": 85, \"Availability\": 85, \"Response_Time\": 20},\n",
        "    {\"cost\": 0.9, \"Reliability\": 85, \"Availability\": 90, \"Response_Time\": 25}\n",
        "]\n",
        "\n",
        "\n",
        "SLA_List = {\n",
        "    \"SLA1\": {\n",
        "        \"SLO1\": 0.5,\n",
        "        \"SLO2\": 99.95,\n",
        "        \"SLO3\": 99.94,\n",
        "        \"SLO4\": 0.125,\n",
        "    },\n",
        "    \"SLA2\": {\n",
        "        \"SLO1\": 0.7,\n",
        "        \"SLO2\": 99.85,\n",
        "        \"SLO3\": 99.99,\n",
        "        \"SLO4\": 0.207,\n",
        "    },\n",
        "}\n",
        "\"\"\"\n",
        "    \"SLA2\": {\n",
        "        \"SLO1\": 0.7,\n",
        "        \"SLO2\": 99.85,\n",
        "        \"SLO3\": 99.99,\n",
        "        \"SLO4\": 0.207,\n",
        "    },\n",
        "\"\"\"\n",
        "print(serwer_list[0])\n",
        "print(serwer_list[0][\"cost\"])\n",
        "print(serwer_list[0][\"Reliability\"])\n",
        "print(serwer_list[0][\"Availability\"])\n",
        "print(serwer_list[0][\"Response_Time\"])\n",
        "print(SLA_List[\"SLA1\"])\n",
        "print(SLA_List[\"SLA1\"][\"SLO1\"])\n",
        "#print(SLA_List[\"SLA2\"])\n",
        "#print(SLA_List[\"SLA2\"][\"SLO3\"])\n",
        "\n",
        "Req_Service_Count = 1000"
      ],
      "metadata": {
        "colab": {
          "base_uri": "https://localhost:8080/"
        },
        "id": "xyjLyFMlVMXa",
        "outputId": "32d65f03-a54d-4cb7-d47a-47dfda57caef"
      },
      "execution_count": null,
      "outputs": [
        {
          "output_type": "stream",
          "name": "stdout",
          "text": [
            "{'cost': 3, 'Reliability': 99.95, 'Availability': 98, 'Response_Time': 9}\n",
            "3\n",
            "99.95\n",
            "98\n",
            "9\n",
            "{'SLO1': 0.5, 'SLO2': 99.95, 'SLO3': 99.94, 'SLO4': 0.125}\n",
            "0.5\n"
          ]
        }
      ]
    },
    {
      "cell_type": "code",
      "source": [
        "#@title Generator do danych serwerów\n",
        "serwer_list=[]\n",
        "NUMBER_OF_SERWER = 3\n",
        "for x in range(NUMBER_OF_SERWER):\n",
        "  serwer_list.append({\n",
        "      \"cost\": round(random.uniform(0.5,4),2),\n",
        "      \"Reliability\": round(random.uniform(0.9,1),2),\n",
        "      \"Availability\": round(random.uniform(0.95,1),2),\n",
        "      \"Response_Time\": round(random.uniform(100,3000),2)\n",
        "      }\n",
        "  )\n",
        "for x in range(NUMBER_OF_SERWER):\n",
        "  print(f\"{serwer_list[x]}\")"
      ],
      "metadata": {
        "id": "8KuaJLlJXE-V",
        "colab": {
          "base_uri": "https://localhost:8080/"
        },
        "outputId": "ec18cd15-ef4d-4e6a-a9b6-d21d6c3a88ff"
      },
      "execution_count": 3,
      "outputs": [
        {
          "output_type": "stream",
          "name": "stdout",
          "text": [
            "{'cost': 0.56, 'Reliability': 0.95, 'Availability': 0.99, 'Response_Time': 247.07}\n",
            "{'cost': 3.78, 'Reliability': 0.94, 'Availability': 0.99, 'Response_Time': 1773.25}\n",
            "{'cost': 2.1, 'Reliability': 0.98, 'Availability': 0.97, 'Response_Time': 2248.76}\n"
          ]
        }
      ]
    },
    {
      "cell_type": "code",
      "source": [
        "#@title Generator do danych SLA\n",
        "\n",
        "SLA_List = {\n",
        "    \"SLA1\": {\n",
        "        \"SLO1\": round(random.uniform(0.5,2.0),2),\n",
        "        \"SLO2\": round(random.uniform(0.5,2.0),2),\n",
        "        \"SLO3\": round(random.uniform(0.5,2.0),2),\n",
        "        \"SLO4\": round(random.uniform(0.5,2.0),2),\n",
        "    },\n",
        "    \"SLA2\": {\n",
        "        \"SLO1\": round(random.uniform(0.5,2.0),2),\n",
        "        \"SLO2\": round(random.uniform(0.5,2.0),2),\n",
        "        \"SLO3\": round(random.uniform(0.5,2.0),2),\n",
        "        \"SLO4\": round(random.uniform(0.5,2.0),2),\n",
        "    },\n",
        "}\n",
        "NUMBER_OF_SLA=1\n",
        "SLA_List={}\n",
        "for x in range(NUMBER_OF_SLA):\n",
        "  SLA_List[f\"SLA{x}\"]={\n",
        "        \"SLO1\": round(random.uniform(0.5,2.0),2),\n",
        "        \"SLO2\": round(random.uniform(0.5,2.0),2),\n",
        "        \"SLO3\": round(random.uniform(0.5,2.0),2),\n",
        "        \"SLO4\": round(random.uniform(0.5,2.0),2),\n",
        "  }\n",
        "for key,value in SLA_List.items():\n",
        "  print(f\"{key}: {value}\\n\")"
      ],
      "metadata": {
        "id": "FBYasbRYXHrE",
        "colab": {
          "base_uri": "https://localhost:8080/"
        },
        "outputId": "ae7d3df3-fe67-4251-c1c2-7f4987938199"
      },
      "execution_count": 4,
      "outputs": [
        {
          "output_type": "stream",
          "name": "stdout",
          "text": [
            "SLA0: {'SLO1': 1.1, 'SLO2': 1.15, 'SLO3': 1.35, 'SLO4': 1.13}\n",
            "\n"
          ]
        }
      ]
    },
    {
      "cell_type": "code",
      "source": [
        "#@title Liczba żądań\n",
        "list_Req_Service_Count = [1000,2000,3000]"
      ],
      "metadata": {
        "id": "nIGvkByA4qVH"
      },
      "execution_count": 5,
      "outputs": []
    },
    {
      "cell_type": "code",
      "source": [
        "def model_1(llist_Req_Service_Count):\n",
        " for Req_Service_Count in llist_Req_Service_Count:\n",
        "  V = range(len(serwer_list))  # Wezły sieci\n",
        "\n",
        "  # Inicjalizacja problemu\n",
        "  prob = pulp.LpProblem(name=\"QoS_Optimization\", sense=pulp.LpMaximize)\n",
        "\n",
        "  # Zmienne decyzyjne\n",
        "  I = {v: pulp.LpVariable(name=f\"I_{v}\", cat=\"Binary\") for v in V}\n",
        "  z_c = {v: pulp.LpVariable(name=f\"z_c_{v}\", cat=\"Continuous\") for v in V}\n",
        "  z_t = {v: pulp.LpVariable(name=f\"z_t_{v}\", cat=\"Continuous\") for v in V}\n",
        "\n",
        "  # Funkcja celu\n",
        "  prob += pulp.lpSum(z_c[v] + z_t[v] + I[v] * serwer_list[v][\"Availability\"] + I[v] * serwer_list[v][\"Reliability\"] for v in V)\n",
        "\n",
        "  # Ograniczenia SLA\n",
        "  for sla, slo_values in SLA_List.items():\n",
        "      for v in V:\n",
        "          prob += I[v] * serwer_list[v][\"cost\"] <= slo_values[\"SLO1\"]\n",
        "          prob += I[v] * serwer_list[v][\"Response_Time\"] <= slo_values[\"SLO2\"]\n",
        "          prob += I[v] * serwer_list[v][\"Availability\"] <= slo_values[\"SLO3\"]\n",
        "          prob += I[v] * serwer_list[v][\"Reliability\"] <= slo_values[\"SLO4\"]\n",
        "\n",
        "  # Dodatkowe ograniczenia\n",
        "  for v in V:\n",
        "      prob += z_c[v] >= I[v] * serwer_list[v][\"cost\"] -1\n",
        "      prob += z_t[v] >= I[v] * serwer_list[v][\"Response_Time\"] -1\n",
        "\n",
        "  prob += pulp.lpSum(z_c[v] for v in V) == 1\n",
        "  prob += pulp.lpSum(z_t[v] for v in V) == 1\n",
        "  prob += pulp.lpSum(I[v] for v in V) <= Req_Service_Count\n",
        "\n",
        "  # Model\n",
        "  print(f\"prob {prob}\")\n",
        "\n",
        "\n",
        "  # Rozwiązanie problemu\n",
        "  prob.solve()\n",
        "\n",
        "  # Wyświetlenie wyniku\n",
        "  print(\"Status:\", plp.LpStatus[prob.status])\n",
        "  print(\"Wartość funkcji celu (Z):\", round(plp.value(prob.objective), 2))\n",
        "\n",
        "\n",
        "  #print(\"Rozwiązanie: \", plp.LpStatus[model.status])\n",
        "  #print(\"Liczba zmiennych: \" + str(model.numVariables()))\n",
        "  #print(\"Liczba ograniczeń: \" + str(model.numConstraints()))\n",
        "  #print(\"Całkowity koszt: \" + str(plp.value(model.objective)))\n",
        "  #for x_dp in x:\n",
        "  #  if x[x_dp].varValue != 0:\n",
        "  #    print(\"Wielkosc przepływu dla zapotrzebowania \" + str(x_dp[0]) + \" dla sciezki nr \" + str(x_dp[1]) + \" wynosi: \" + str(x[x_dp].varValue))\n",
        "\n",
        "\n",
        "  # Wyświetlenie wartości zmiennych decyzyjnych\n",
        "  for v in V:\n",
        "      print(f\"I[{v}] =\", int(I[v].value()))\n",
        "      #print(f\"z[{v}] =\", int(z[v].value()))\n",
        "      #print(f\"y[{v}] =\", int(y[v].value()))\n",
        "model_1(list_Req_Service_Count)"
      ],
      "metadata": {
        "id": "OV6EYAgBrfIW"
      },
      "execution_count": null,
      "outputs": []
    },
    {
      "cell_type": "code",
      "source": [
        "def model_2(list_Req_Service_Count):\n",
        " for Req_Service_Count in list_Req_Service_Count:\n",
        "    V = range(len(serwer_list))  # Wezły sieci\n",
        "\n",
        "    # Inicjalizacja problemu\n",
        "    prob = pulp.LpProblem(name=\"QoS_Optimization\", sense=pulp.LpMaximize)\n",
        "\n",
        "    # Zmienne decyzyjne\n",
        "    I = {v: pulp.LpVariable(name=f\"I_{v}\", cat=\"Binary\") for v in V}\n",
        "\n",
        "    # Funkcje celu\n",
        "    C_total = pulp.lpSum(I[v] * serwer_list[v][\"cost\"] for v in V)\n",
        "    T_total = pulp.lpSum(I[v] * serwer_list[v][\"Response_Time\"] for v in V)\n",
        "    A_total = pulp.lpSum(I[v] * serwer_list[v][\"Availability\"] for v in V)\n",
        "    R_total = pulp.lpSum(I[v] * serwer_list[v][\"Reliability\"] for v in V)\n",
        "\n",
        "    prob += - C_total - T_total + A_total + R_total\n",
        "\n",
        "\n",
        "    # Ograniczenia SLA\n",
        "    for sla, slo_values in SLA_List.items():\n",
        "        for v in V:\n",
        "            prob += I[v] * serwer_list[v][\"cost\"] <= slo_values[\"SLO1\"]\n",
        "            prob += I[v] * serwer_list[v][\"Response_Time\"] <= slo_values[\"SLO2\"]\n",
        "            prob += I[v] * serwer_list[v][\"Availability\"] <= slo_values[\"SLO3\"]\n",
        "            prob += I[v] * serwer_list[v][\"Reliability\"] <= slo_values[\"SLO4\"]\n",
        "\n",
        "    # Dodatkowe ograniczenia\n",
        "    prob += T_total == pulp.lpSum(I[v] * serwer_list[v][\"Response_Time\"] for v in V)\n",
        "    prob += A_total == pulp.lpSum(I[v] * serwer_list[v][\"Availability\"] for v in V)\n",
        "    prob += R_total == pulp.lpSum(I[v] * serwer_list[v][\"Reliability\"] for v in V)\n",
        "\n",
        "    for v in V:\n",
        "        prob += I[v] == 0 or I[v] == 1\n",
        "\n",
        "    prob += pulp.lpSum(I[v] for v in V) <= Req_Service_Count\n",
        "\n",
        "    # Rozwiązanie problemu\n",
        "    prob.solve()\n",
        "\n",
        "\n",
        "    # Wyświetlenie wyniku\n",
        "    print(\"Status:\", plp.LpStatus[prob.status])\n",
        "    print(\"Wartość funkcji celu (Z):\", round(plp.value(prob.objective), 2))\n",
        "\n",
        "    # Wyświetlenie wartości zmiennych decyzyjnych\n",
        "    for v in V:\n",
        "      print(f\"I[{v}] =\", int(I[v].value()))\n",
        "      #print(f\"z[{v}] =\", int(z[v].value()))\n",
        "      #print(f\"y[{v}] =\", int(y[v].value()))\n",
        "      #print(f\"l1[{v}] =\", round(l1[v].value(), 2))\n",
        "      #print(f\"l2[{v}] =\", round(l2[v].value(), 2))\n",
        "model_2(list_Req_Service_Count)"
      ],
      "metadata": {
        "colab": {
          "base_uri": "https://localhost:8080/"
        },
        "id": "-2Tsl5lb0lMq",
        "outputId": "ba068953-4f51-4481-8139-a65f3b7abf60"
      },
      "execution_count": null,
      "outputs": [
        {
          "output_type": "stream",
          "name": "stdout",
          "text": [
            "Status: Optimal\n",
            "Wartość funkcji celu (Z): 0.0\n",
            "I[0] = 0\n",
            "I[1] = 0\n",
            "I[2] = 0\n",
            "Status: Optimal\n",
            "Wartość funkcji celu (Z): 0.0\n",
            "I[0] = 0\n",
            "I[1] = 0\n",
            "I[2] = 0\n",
            "Status: Optimal\n",
            "Wartość funkcji celu (Z): 0.0\n",
            "I[0] = 0\n",
            "I[1] = 0\n",
            "I[2] = 0\n"
          ]
        }
      ]
    },
    {
      "cell_type": "markdown",
      "source": [
        "\\begin{align*}\n",
        "&y \\geq \\frac{1}{\\sum_{v \\in V} I_v \\times \\text{WScost}(v)} \\quad (1) \\\\\n",
        "&y \\cdot \\sum_{v \\in V} I_v \\times WScost(v) \\geq 1 \\quad \\text{(2)} \\\\\n",
        "&y \\leq M \\cdot \\sum_{v \\in V} I_v \\times WScost(v) \\quad \\text{(3)} \\\\\n",
        "&\\sum_{v \\in V} I_v \\times WScost(v) \\leq M \\cdot (1 - I_v) \\quad \\text{(4)}\n",
        "\\end{align*}\n",
        "\n",
        "\\\\\n",
        "dupa\n",
        "\n",
        "\n",
        "\\begin{align*}\n",
        "&z \\geq \\frac{1}{\\sum_{v \\in V} I_v \\times \\text{WS\\_Resp}(v)} \\quad (5) \\\\\n",
        "&z \\cdot \\sum_{v \\in V} I_v \\times WS_Resp(v) \\geq 1 \\quad \\text{(6)} \\\\\n",
        "&z \\leq N \\cdot \\sum_{v \\in V} I_v \\times WS_Resp(v) \\quad \\text{(7)} \\\\\n",
        "&\\sum_{v \\in V} I_v \\times WS_Resp(v) \\leq N \\cdot (1 - I_v) \\quad \\text{(8)}\n",
        "\\end{align*}"
      ],
      "metadata": {
        "id": "cQ6ddlMAJgo6"
      }
    },
    {
      "cell_type": "code",
      "source": [
        "def model3(llist_Req_Service_Count):\n",
        "  for Req_Service_Count in llist_Req_Service_Count:\n",
        "    # Utwórz problem liniowy\n",
        "    model_3 = None\n",
        "    model_3 = plp.LpProblem(name=\"Maximize_Z\", sense=plp.LpMaximize)\n",
        "\n",
        "    V = range(len(serwer_list))\n",
        "\n",
        "    # Zmienne decyzyjne\n",
        "    I = {v: plp.LpVariable(name=f\"I_{v}\", cat=\"Binary\") for v in V}\n",
        "    D = {v: plp.LpVariable(name=f\"D_{v}\",lowBound = 0, cat=\"Continuous\") for v in V}\n",
        "    W = {v: plp.LpVariable(name=f\"W_{v}\",lowBound = 0, cat=\"Continuous\") for v in V}\n",
        "    g = {v: plp.LpVariable(name=f\"g_{v}\",lowBound = 0, cat=\"Continuous\") for v in V}\n",
        "    z = {v: plp.LpVariable(name=f\"z_{v}\",lowBound = 0, cat=\"Continuous\") for v in V}\n",
        "\n",
        "    # Funkcja celu zlinearyzowana\n",
        "    A_total = plp.lpSum(I[v] * serwer_list[v][\"Availability\"] for v in V)\n",
        "    R_total = plp.lpSum(I[v] * serwer_list[v][\"Reliability\"] for v in V)\n",
        "\n",
        "    model_3 += plp.lpSum(W[v] + D[v] for v in V) + A_total + R_total\n",
        "\n",
        "\n",
        "    # Ograniczenia\n",
        "    for sla, slo_values in SLA_List.items():\n",
        "      for v in V:\n",
        "        model_3 += I[v] * serwer_list[v][\"cost\"] <= slo_values[\"SLO1\"]\n",
        "        model_3 += I[v] * serwer_list[v][\"Response_Time\"] <= slo_values[\"SLO2\"]\n",
        "        model_3 += I[v] * serwer_list[v][\"Availability\"] <= slo_values[\"SLO3\"]\n",
        "        model_3 += I[v] * serwer_list[v][\"Reliability\"] <= slo_values[\"SLO4\"]\n",
        "\n",
        "    # Zlinearyzowane ograniczenia dla D\n",
        "    model_3 += plp.lpSum( z[v] * serwer_list[v][\"cost\"] for v in V) == 1\n",
        "    for v in V:\n",
        "      model_3 += plp.lpSum( z[v] >= W[v] + I[v] -1 )\n",
        "\n",
        "    # Zlinearyzowane ograniczenia dla z\n",
        "    model_3 += plp.lpSum( g[v] * serwer_list[v][\"Response_Time\"] for v in V) == 1\n",
        "    for v in V:\n",
        "      model_3 += plp.lpSum( g[v] >= D[v] + I[v] -1)\n",
        "\n",
        "    # Ograniczenie dotyczące liczby wymaganych usług\n",
        "    model_3 += plp.lpSum(I[v] for v in V) <= Req_Service_Count\n",
        "\n",
        "    #print(model_3)\n",
        "\n",
        "    # Rozwiązanie problemu\n",
        "    model_3.solve()\n",
        "\n",
        "    # Wyświetlenie wyników\n",
        "    print(f\"Status: {model_3.status}, Koszt: {model_3.objective.value()}\")\n",
        "    for v in V:\n",
        "        print(f\"Server {v+1}: {I[v].value()}\")\n",
        "model3(list_Req_Service_Count)"
      ],
      "metadata": {
        "colab": {
          "base_uri": "https://localhost:8080/"
        },
        "id": "Mq7gVsfmK3Rz",
        "outputId": "3c218037-a618-484f-af2e-8382de58af14"
      },
      "execution_count": 12,
      "outputs": [
        {
          "output_type": "stream",
          "name": "stdout",
          "text": [
            "Status: 1, Koszt: 1.00044468952\n",
            "Server 1: 0.0\n",
            "Server 2: 0.0\n",
            "Server 3: 0.0\n",
            "Status: 1, Koszt: 1.00044468952\n",
            "Server 1: 0.0\n",
            "Server 2: 0.0\n",
            "Server 3: 0.0\n",
            "Status: 1, Koszt: 1.00044468952\n",
            "Server 1: 0.0\n",
            "Server 2: 0.0\n",
            "Server 3: 0.0\n"
          ]
        }
      ]
    }
  ]
}